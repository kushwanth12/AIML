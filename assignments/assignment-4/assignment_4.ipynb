{
  "nbformat": 4,
  "nbformat_minor": 0,
  "metadata": {
    "colab": {
      "name": "assignment-4",
      "provenance": []
    },
    "kernelspec": {
      "name": "python3",
      "display_name": "Python 3"
    }
  },
  "cells": [
    {
      "cell_type": "code",
      "metadata": {
        "id": "QaXWSHtF7XJ6",
        "colab_type": "code",
        "colab": {}
      },
      "source": [
        "f=open(\"ss.txt\",\"w\")\n",
        "f.write(\"hello everyone\")\n",
        "f.close()"
      ],
      "execution_count": 0,
      "outputs": []
    },
    {
      "cell_type": "code",
      "metadata": {
        "id": "qdZvDl6S72IV",
        "colab_type": "code",
        "colab": {
          "base_uri": "https://localhost:8080/",
          "height": 69
        },
        "outputId": "11434bc8-0458-4048-e08a-2ac1233a60d4"
      },
      "source": [
        "# Count the no.of words,no.of letters,no.of lines available in your file\n",
        "\n",
        "\n",
        "with open('ss.txt') as infile:\n",
        "    lines=0\n",
        "    words=0\n",
        "    characters=0\n",
        "    for line in infile:\n",
        "        wordslist=line.split()\n",
        "        lines=lines+1\n",
        "        words=words+len(wordslist)\n",
        "        characters += sum(len(word) for word in wordslist)\n",
        "print(lines)\n",
        "print(words)\n",
        "print(characters)"
      ],
      "execution_count": 2,
      "outputs": [
        {
          "output_type": "stream",
          "text": [
            "1\n",
            "2\n",
            "13\n"
          ],
          "name": "stdout"
        }
      ]
    },
    {
      "cell_type": "code",
      "metadata": {
        "id": "Wn7FDOQ_78tv",
        "colab_type": "code",
        "colab": {}
      },
      "source": [
        "# Copy the content of one file to another\n",
        "\n",
        "with open(\"ss.txt\") as f:\n",
        "    with open(\"cap.txt\", \"w\") as f1:\n",
        "        for line in f:\n",
        "            f1.write(line)"
      ],
      "execution_count": 0,
      "outputs": []
    },
    {
      "cell_type": "code",
      "metadata": {
        "id": "-h5hoB4L8C5W",
        "colab_type": "code",
        "colab": {
          "base_uri": "https://localhost:8080/",
          "height": 35
        },
        "outputId": "9f88fd5f-07d9-4cb8-ee81-ea5c3da63f87"
      },
      "source": [
        "# Copy the content of one file to another\n",
        "\n",
        "f=open(\"cap.txt\",\"r\")\n",
        "data=f.read()\n",
        "print(data)\n",
        "f.close()"
      ],
      "execution_count": 5,
      "outputs": [
        {
          "output_type": "stream",
          "text": [
            "hello everyone\n"
          ],
          "name": "stdout"
        }
      ]
    },
    {
      "cell_type": "code",
      "metadata": {
        "id": "lfP3WrM88JCg",
        "colab_type": "code",
        "colab": {}
      },
      "source": [
        "# Rename file\n",
        "import os\n",
        "os.rename( \"cap.txt\", \"test1.txt\" )"
      ],
      "execution_count": 0,
      "outputs": []
    },
    {
      "cell_type": "code",
      "metadata": {
        "id": "ciM2S-Q88Nr7",
        "colab_type": "code",
        "colab": {
          "base_uri": "https://localhost:8080/",
          "height": 35
        },
        "outputId": "ace2c547-c79a-4fae-d167-e1ce5f6b734c"
      },
      "source": [
        "f=open(\"test1.txt\",\"r\")\n",
        "data=f.read()\n",
        "print(data)\n",
        "f.close()"
      ],
      "execution_count": 7,
      "outputs": [
        {
          "output_type": "stream",
          "text": [
            "hello everyone\n"
          ],
          "name": "stdout"
        }
      ]
    },
    {
      "cell_type": "code",
      "metadata": {
        "id": "v92oVoCL8ZL2",
        "colab_type": "code",
        "colab": {}
      },
      "source": [
        "# remove file\n",
        "import os\n",
        "os.remove(\"test1.txt\")"
      ],
      "execution_count": 0,
      "outputs": []
    },
    {
      "cell_type": "code",
      "metadata": {
        "id": "iJqVlH4L8d1C",
        "colab_type": "code",
        "colab": {
          "base_uri": "https://localhost:8080/",
          "height": 69
        },
        "outputId": "d794cd3f-97eb-4c7a-df1a-fc6448c5475a"
      },
      "source": [
        "#Display the words starting with letter 'p'\n",
        "l=['pencil','pen','potato','orange','apple','mango']\n",
        "for i in l:\n",
        "    if i.startswith(\"p\"):\n",
        "        print(i)"
      ],
      "execution_count": 9,
      "outputs": [
        {
          "output_type": "stream",
          "text": [
            "pencil\n",
            "pen\n",
            "potato\n"
          ],
          "name": "stdout"
        }
      ]
    }
  ]
}