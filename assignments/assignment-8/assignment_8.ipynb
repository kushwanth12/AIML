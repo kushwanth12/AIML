{
  "nbformat": 4,
  "nbformat_minor": 0,
  "metadata": {
    "colab": {
      "name": "assignment-8",
      "provenance": []
    },
    "kernelspec": {
      "name": "python3",
      "display_name": "Python 3"
    }
  },
  "cells": [
    {
      "cell_type": "markdown",
      "metadata": {
        "id": "7f_KpmGMt2WS",
        "colab_type": "text"
      },
      "source": [
        "###Neela Kushwanth(221710304037)"
      ]
    },
    {
      "cell_type": "code",
      "metadata": {
        "id": "wSQTpD3ltsk_",
        "colab_type": "code",
        "outputId": "4182572b-5040-4c55-ae9d-1d2725fd46fa",
        "colab": {
          "base_uri": "https://localhost:8080/",
          "height": 87
        }
      },
      "source": [
        "# Reversing an Array\n",
        "import numpy as np\n",
        "arr1=np.arange(12,38)\n",
        "print(arr1)\n",
        "reverse=arr1[::-1]\n",
        "print(reverse)"
      ],
      "execution_count": 0,
      "outputs": [
        {
          "output_type": "stream",
          "text": [
            "[12 13 14 15 16 17 18 19 20 21 22 23 24 25 26 27 28 29 30 31 32 33 34 35\n",
            " 36 37]\n",
            "[37 36 35 34 33 32 31 30 29 28 27 26 25 24 23 22 21 20 19 18 17 16 15 14\n",
            " 13 12]\n"
          ],
          "name": "stdout"
        }
      ]
    },
    {
      "cell_type": "code",
      "metadata": {
        "id": "XgE1o-NcuAnO",
        "colab_type": "code",
        "outputId": "1b6fd2d3-8469-4c3b-c7f4-203441936b5d",
        "colab": {
          "base_uri": "https://localhost:8080/",
          "height": 104
        }
      },
      "source": [
        "\n",
        "#Write a NumPy program to create a 2d array with 1 on the border and 0 inside. \n",
        "arr= np.ones((5,5))\n",
        "arr[1:-1,1:-1]=0\n",
        "print(arr)"
      ],
      "execution_count": 0,
      "outputs": [
        {
          "output_type": "stream",
          "text": [
            "[[1. 1. 1. 1. 1.]\n",
            " [1. 0. 0. 0. 1.]\n",
            " [1. 0. 0. 0. 1.]\n",
            " [1. 0. 0. 0. 1.]\n",
            " [1. 1. 1. 1. 1.]]\n"
          ],
          "name": "stdout"
        }
      ]
    },
    {
      "cell_type": "code",
      "metadata": {
        "id": "YwcQm7g9uLrM",
        "colab_type": "code",
        "outputId": "d07756e9-a3f7-496d-99a4-c4c92f090f95",
        "colab": {
          "base_uri": "https://localhost:8080/",
          "height": 69
        }
      },
      "source": [
        "#Write a NumPy program to test whether each element of a 1-D array is also present in a second array.\n",
        "arr2= np.array([0, 10, 20, 40, 60])\n",
        "print(\"array1: \",arr2)\n",
        "arr3= [0, 40]\n",
        "print(\"array2: \",arr3)\n",
        "print(np.in1d(arr2, arr3))"
      ],
      "execution_count": 0,
      "outputs": [
        {
          "output_type": "stream",
          "text": [
            "array1:  [ 0 10 20 40 60]\n",
            "array2:  [0, 40]\n",
            "[ True False False  True False]\n"
          ],
          "name": "stdout"
        }
      ]
    },
    {
      "cell_type": "code",
      "metadata": {
        "id": "ceOn9H5puQsC",
        "colab_type": "code",
        "outputId": "bd5b413a-431b-4d20-8540-ba55e14fc985",
        "colab": {
          "base_uri": "https://localhost:8080/",
          "height": 69
        }
      },
      "source": [
        "# Write a NumPy program to find the set difference of two arrays. The set difference will return the sorted, unique values in array1 that are not in array2.\n",
        "\n",
        "arr4 = np.array([0, 10, 20, 40, 60, 80])\n",
        "print(\"array1: \",arr4)\n",
        "arr5 = [10, 30, 40, 50, 70, 90]\n",
        "print(\"array2: \",arr5)\n",
        "print(np.setdiff1d(arr4, arr5))"
      ],
      "execution_count": 0,
      "outputs": [
        {
          "output_type": "stream",
          "text": [
            "array1:  [ 0 10 20 40 60 80]\n",
            "array2:  [10, 30, 40, 50, 70, 90]\n",
            "[ 0 20 60 80]\n"
          ],
          "name": "stdout"
        }
      ]
    },
    {
      "cell_type": "code",
      "metadata": {
        "id": "Q-rEOm6YuXxi",
        "colab_type": "code",
        "outputId": "a1253e70-3cf5-424e-eddf-462292a20b13",
        "colab": {
          "base_uri": "https://localhost:8080/",
          "height": 87
        }
      },
      "source": [
        "# Write a NumPy program to create a 2-D array whose diagonal equals [4, 5, 6, 8] and 0's \n",
        "arr5= np.diagflat([4, 5, 6, 8])\n",
        "print(arr5)"
      ],
      "execution_count": 0,
      "outputs": [
        {
          "output_type": "stream",
          "text": [
            "[[4 0 0 0]\n",
            " [0 5 0 0]\n",
            " [0 0 6 0]\n",
            " [0 0 0 8]]\n"
          ],
          "name": "stdout"
        }
      ]
    }
  ]
}