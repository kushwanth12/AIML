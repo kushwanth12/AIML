{
  "nbformat": 4,
  "nbformat_minor": 0,
  "metadata": {
    "colab": {
      "name": "assignment-6",
      "provenance": []
    },
    "kernelspec": {
      "name": "python3",
      "display_name": "Python 3"
    }
  },
  "cells": [
    {
      "cell_type": "code",
      "metadata": {
        "id": "2Kh4bRSJNEi0",
        "colab_type": "code",
        "colab": {
          "base_uri": "https://localhost:8080/",
          "height": 433
        },
        "outputId": "8356abe3-35c2-4070-ba42-6b465b50434b"
      },
      "source": [
        "import random\n",
        "list1=['ackke','apple','areca','betal','chard','chive','drupe','galia','grape','mango']\n",
        "n=9\n",
        "x=5\n",
        "list3=['?','?','?','?','?']\n",
        "list2=list(random.choice(list1))\n",
        "str1=''\n",
        "for ele in list2: \n",
        "    str1 += ele \n",
        "while n!=0 and x!=0:\n",
        "    print(list3)\n",
        "    print(\"lifes left\",end=\":\")\n",
        "    for i in range(n):\n",
        "        print('♥',end=' ')\n",
        "    s=input(\"\\ngive a letter or the whole word\")\n",
        "    if len(s)>1:\n",
        "        if s==str1:\n",
        "            x=0\n",
        "        else:\n",
        "            print(\"you lose a life\")\n",
        "            n=n-1\n",
        "    else:\n",
        "        c=0\n",
        "        for i in range(len(list2)):\n",
        "            if list2[i]==s:\n",
        "                list3[i]=list2[i]\n",
        "                list2[i]=' '\n",
        "                x=x-1\n",
        "                c=1\n",
        "                break\n",
        "        if c==0:\n",
        "            print(\"you lose a life\")\n",
        "            n=n-1\n",
        "print(\"you won the secret  word %s\"%str1 if x==0 else \"lifes are over the word is %s\"%str1)"
      ],
      "execution_count": 2,
      "outputs": [
        {
          "output_type": "stream",
          "text": [
            "['?', '?', '?', '?', '?']\n",
            "lifes left:♥ ♥ ♥ ♥ ♥ ♥ ♥ ♥ ♥ \n",
            "give a letter or the whole worda\n",
            "['?', 'a', '?', '?', '?']\n",
            "lifes left:♥ ♥ ♥ ♥ ♥ ♥ ♥ ♥ ♥ \n",
            "give a letter or the whole wordp\n",
            "you lose a life\n",
            "['?', 'a', '?', '?', '?']\n",
            "lifes left:♥ ♥ ♥ ♥ ♥ ♥ ♥ ♥ \n",
            "give a letter or the whole wordg\n",
            "['g', 'a', '?', '?', '?']\n",
            "lifes left:♥ ♥ ♥ ♥ ♥ ♥ ♥ ♥ \n",
            "give a letter or the whole wordr\n",
            "you lose a life\n",
            "['g', 'a', '?', '?', '?']\n",
            "lifes left:♥ ♥ ♥ ♥ ♥ ♥ ♥ \n",
            "give a letter or the whole wordl\n",
            "['g', 'a', 'l', '?', '?']\n",
            "lifes left:♥ ♥ ♥ ♥ ♥ ♥ ♥ \n",
            "give a letter or the whole wordi\n",
            "['g', 'a', 'l', 'i', '?']\n",
            "lifes left:♥ ♥ ♥ ♥ ♥ ♥ ♥ \n",
            "give a letter or the whole worda\n",
            "you won the secret  word galia\n"
          ],
          "name": "stdout"
        }
      ]
    }
  ]
}