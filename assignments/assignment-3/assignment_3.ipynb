{
  "nbformat": 4,
  "nbformat_minor": 0,
  "metadata": {
    "colab": {
      "name": "assignment-3",
      "provenance": []
    },
    "kernelspec": {
      "name": "python3",
      "display_name": "Python 3"
    }
  },
  "cells": [
    {
      "cell_type": "code",
      "metadata": {
        "id": "TUPBew7lpQ_F",
        "colab_type": "code",
        "colab": {
          "base_uri": "https://localhost:8080/",
          "height": 52
        },
        "outputId": "764a4cef-a709-4157-e5f2-d8e65274f62d"
      },
      "source": [
        "#Create a function to find Factorial of a number using Recursion\n",
        "def factorial(x):\n",
        "    if x==1:\n",
        "        return 1\n",
        "    else:\n",
        "        return x*factorial(x-1)\n",
        "\n",
        "n=int(input(''))\n",
        "f=factorial(n)\n",
        "print (\"factorial  is \",f)"
      ],
      "execution_count": 1,
      "outputs": [
        {
          "output_type": "stream",
          "text": [
            "6\n",
            "factorial  is  720\n"
          ],
          "name": "stdout"
        }
      ]
    },
    {
      "cell_type": "code",
      "metadata": {
        "id": "AY6Hbnckplke",
        "colab_type": "code",
        "colab": {
          "base_uri": "https://localhost:8080/",
          "height": 69
        },
        "outputId": "f2174b89-e51b-4f59-d3f9-9fde07ac54da"
      },
      "source": [
        "#Create a function and display ‘n’ Fibonacci numbers using Recursion\n",
        "def fib(n):\n",
        "    if n <= 1:  \n",
        "        return n  \n",
        "    else:  \n",
        "        return(fib(n-1) + fib(n-2))  \n",
        "k= int(input(\"\"))  \n",
        "print(\"Fibonacci sequence:\")  \n",
        "for i in range (k):  \n",
        "       print(fib(i),end=\" \")"
      ],
      "execution_count": 2,
      "outputs": [
        {
          "output_type": "stream",
          "text": [
            "5\n",
            "Fibonacci sequence:\n",
            "0 1 1 2 3 "
          ],
          "name": "stdout"
        }
      ]
    },
    {
      "cell_type": "code",
      "metadata": {
        "id": "G-SpnhNJpzLg",
        "colab_type": "code",
        "colab": {
          "base_uri": "https://localhost:8080/",
          "height": 139
        },
        "outputId": "1497d9f4-b769-482a-8c80-91edf767132e"
      },
      "source": [
        "#Print sum of list of elements without using sum() function\n",
        "num= []\n",
        "total = 0\n",
        "j = 0\n",
        "n = int(input(\"no ofelements \"))\n",
        "for i in range(1, n + 1):\n",
        "    value = int(input(\"enter values \" ))\n",
        "    num.append(value)\n",
        "\n",
        "while(j < n):\n",
        "    total = total + num[j]\n",
        "    j = j + 1\n",
        "print(\"sum of all elements is : \", total)"
      ],
      "execution_count": 4,
      "outputs": [
        {
          "output_type": "stream",
          "text": [
            "no ofelements 5\n",
            "enter values 1\n",
            "enter values 2\n",
            "enter values 3\n",
            "enter values 4\n",
            "enter values 5\n",
            "sum of all elements is :  15\n"
          ],
          "name": "stdout"
        }
      ]
    },
    {
      "cell_type": "code",
      "metadata": {
        "id": "o_mVHKcuqOF9",
        "colab_type": "code",
        "colab": {
          "base_uri": "https://localhost:8080/",
          "height": 156
        },
        "outputId": "7d93fdc0-830a-4981-bd14-9912fb879aac"
      },
      "source": [
        "#print only even numbers from the list\n",
        "num = []\n",
        "n = int(input(\"total number of elements : \"))\n",
        "for i in range(1, n + 1):\n",
        "    value = int(input(\"values are: \" ))\n",
        "    num.append(value)\n",
        "print(\"\\nEven Numbers are\")\n",
        "for j in range(n):\n",
        "    if(num[j] % 2 == 0):\n",
        "        print(num[j], end = '   ')"
      ],
      "execution_count": 5,
      "outputs": [
        {
          "output_type": "stream",
          "text": [
            "total number of elements : 4\n",
            "values are: 2\n",
            "values are: 3\n",
            "values are: 6\n",
            "values are: 5\n",
            "\n",
            "Even Numbers are\n",
            "2   6   "
          ],
          "name": "stdout"
        }
      ]
    },
    {
      "cell_type": "code",
      "metadata": {
        "id": "WE_S3lnYqcCe",
        "colab_type": "code",
        "colab": {
          "base_uri": "https://localhost:8080/",
          "height": 52
        },
        "outputId": "c70f1e99-dfdd-4cc1-d8d2-fc43324e2242"
      },
      "source": [
        "#Write a Python program to get the smallest number from a list and display index of smallest element of the list\n",
        "\n",
        "list=[2,3,1,4,5]\n",
        "print(list.index(min(list)))\n",
        "print(min(list))"
      ],
      "execution_count": 6,
      "outputs": [
        {
          "output_type": "stream",
          "text": [
            "2\n",
            "1\n"
          ],
          "name": "stdout"
        }
      ]
    },
    {
      "cell_type": "code",
      "metadata": {
        "id": "hEqeR-jMqsT1",
        "colab_type": "code",
        "colab": {
          "base_uri": "https://localhost:8080/",
          "height": 52
        },
        "outputId": "7f0b801c-cdda-4e3c-ed00-381e448325f5"
      },
      "source": [
        "#Write a Python function that checks whether a passed string is palindrome or not.\n",
        "def pal(s):\n",
        "    if len(s) < 1:\n",
        "        return True\n",
        "    else:\n",
        "        if s[0] == s[-1]:\n",
        "            return pal(s[1:-1])\n",
        "        else:\n",
        "            return False\n",
        "a=str(input(\"Enter string: \"))\n",
        "if(pal(a)==True):\n",
        "    print(\"it is palindrome\")\n",
        "else:\n",
        "    print(\"not a palindrome\")"
      ],
      "execution_count": 7,
      "outputs": [
        {
          "output_type": "stream",
          "text": [
            "Enter string: madam\n",
            "it is palindrome\n"
          ],
          "name": "stdout"
        }
      ]
    },
    {
      "cell_type": "code",
      "metadata": {
        "id": "jC9YQ1Bpq18R",
        "colab_type": "code",
        "colab": {
          "base_uri": "https://localhost:8080/",
          "height": 139
        },
        "outputId": "d4a35301-0ea5-40c3-db2b-8be214c61838"
      },
      "source": [
        "#Write a Python program to count the number of even and odd numbers from a series of numbers. \n",
        "\n",
        "num=[]\n",
        "ecount = 0\n",
        "ocount = 0\n",
        "n = int(input(\"total number of elements \"))\n",
        "for i in range(1, n+ 1):\n",
        "    value = int(input(\"values are \"))\n",
        "    num.append(value)\n",
        "for j in range(n):\n",
        "    if(num[j] % 2 == 0):\n",
        "        ecount = ecount + 1\n",
        "    else:\n",
        "        ocount = ocount + 1\n",
        "\n",
        "print(\"total odd numbers =  \", ocount)\n",
        "print(\"total even numbers = \", ecount)"
      ],
      "execution_count": 8,
      "outputs": [
        {
          "output_type": "stream",
          "text": [
            "total number of elements 4\n",
            "values are 2\n",
            "values are 4\n",
            "values are 6\n",
            "values are 5\n",
            "total odd numbers =   1\n",
            "total even numbers =  3\n"
          ],
          "name": "stdout"
        }
      ]
    },
    {
      "cell_type": "code",
      "metadata": {
        "id": "z2QEWpDbrMa2",
        "colab_type": "code",
        "colab": {
          "base_uri": "https://localhost:8080/",
          "height": 35
        },
        "outputId": "f4e9a97b-623c-491d-bcef-36e51207d121"
      },
      "source": [
        "#Write a Python program that prints all the numbers from 0 to 6 except 3 and 6.\n",
        "\n",
        "for x in range(6):\n",
        "    if (x == 3 or x==6):\n",
        "        continue\n",
        "    print(x,end=' ')"
      ],
      "execution_count": 9,
      "outputs": [
        {
          "output_type": "stream",
          "text": [
            "0 1 2 4 5 "
          ],
          "name": "stdout"
        }
      ]
    },
    {
      "cell_type": "code",
      "metadata": {
        "id": "_9mnYuO0rOfF",
        "colab_type": "code",
        "colab": {
          "base_uri": "https://localhost:8080/",
          "height": 52
        },
        "outputId": "704fbcee-ee00-4b17-d0e1-f2775f781525"
      },
      "source": [
        "#Write a python function to check whether the given number is prime or not\n",
        "\n",
        "num = int(input(\"enter a number: \"))\n",
        "for i in range(2, num):\n",
        "    if num % i  == 0:\n",
        "        print(\"not prime number\")\n",
        "        break\n",
        "else:\n",
        "    print(\"prime number\")"
      ],
      "execution_count": 10,
      "outputs": [
        {
          "output_type": "stream",
          "text": [
            "enter a number: 76\n",
            "not prime number\n"
          ],
          "name": "stdout"
        }
      ]
    },
    {
      "cell_type": "code",
      "metadata": {
        "id": "SFjkc2KLrY2K",
        "colab_type": "code",
        "colab": {
          "base_uri": "https://localhost:8080/",
          "height": 52
        },
        "outputId": "3c58c674-3421-4753-f973-0087abb3ffaf"
      },
      "source": [
        "#Write a python function to check whether the given number is Adam number or not\n",
        "\n",
        "n =input()\n",
        "rev=n[::-1]\n",
        "nsquare=int(n)**2\n",
        "revsquare=int(rev )**2\n",
        "if int(nsquare )==int(str(revsquare)[::-1]):\n",
        "   print(\" is a adam number\")\n",
        "else:\n",
        "   print(\" is not a adam number\")"
      ],
      "execution_count": 11,
      "outputs": [
        {
          "output_type": "stream",
          "text": [
            "0705\n",
            " is not a adam number\n"
          ],
          "name": "stdout"
        }
      ]
    }
  ]
}