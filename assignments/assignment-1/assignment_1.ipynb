{
  "nbformat": 4,
  "nbformat_minor": 0,
  "metadata": {
    "colab": {
      "name": "assignment 1",
      "provenance": []
    },
    "kernelspec": {
      "name": "python3",
      "display_name": "Python 3"
    }
  },
  "cells": [
    {
      "cell_type": "code",
      "metadata": {
        "id": "J3Cjpt5qmI2R",
        "colab_type": "code",
        "colab": {
          "base_uri": "https://localhost:8080/",
          "height": 52
        },
        "outputId": "b1bb835d-a2dd-4a44-ab76-73ed09ffef8c"
      },
      "source": [
        "#decimal number to Binary\n",
        "def binary(n):\n",
        "   if n > 1:\n",
        "       binary(n//2)\n",
        "   print(n % 2,end = '')\n",
        "d = int(input(\"enter decimal: \"))\n",
        "binary(d)\n",
        "print()"
      ],
      "execution_count": 2,
      "outputs": [
        {
          "output_type": "stream",
          "text": [
            "enter decimal: 7\n",
            "111\n"
          ],
          "name": "stdout"
        }
      ]
    },
    {
      "cell_type": "code",
      "metadata": {
        "id": "OiYNGYJGmaOs",
        "colab_type": "code",
        "colab": {
          "base_uri": "https://localhost:8080/",
          "height": 87
        },
        "outputId": "4bdb5c02-f604-4f11-f65c-f5d3b705ca51"
      },
      "source": [
        "#Roots of quadratic equation\n",
        "from math import sqrt\n",
        "a=float(input(\"a=  \"))\n",
        "b=float(input(\"b=  \"))\n",
        "c=float(input(\"c=  \"))\n",
        "r=b**2 - 4*a*c\n",
        "a1 =(((-b) + sqrt(r))/(2*a))     \n",
        "b1=(((-b) - sqrt(r))/(2*a))\n",
        "print(\"the roots are %f and %f\",a1,b1)"
      ],
      "execution_count": 3,
      "outputs": [
        {
          "output_type": "stream",
          "text": [
            "a=  5\n",
            "b=  7\n",
            "c=  1\n",
            "the roots are %f and %f -0.16148351928654964 -1.2385164807134506\n"
          ],
          "name": "stdout"
        }
      ]
    },
    {
      "cell_type": "code",
      "metadata": {
        "id": "I-2lrVQmmkCO",
        "colab_type": "code",
        "colab": {
          "base_uri": "https://localhost:8080/",
          "height": 52
        },
        "outputId": "c89705e6-e4ef-4899-8922-9d7534afdb06"
      },
      "source": [
        "#first N number of Fibonacci numbers\n",
        "n=int(input(''))\n",
        "f1=0\n",
        "f2=1\n",
        "if(n>1):\n",
        "    for x in range(0,n):\n",
        "        print(f2,end=',')\n",
        "        next=f1+f2\n",
        "        f1=f2\n",
        "        f2=next"
      ],
      "execution_count": 4,
      "outputs": [
        {
          "output_type": "stream",
          "text": [
            "13\n",
            "1,1,2,3,5,8,13,21,34,55,89,144,233,"
          ],
          "name": "stdout"
        }
      ]
    },
    {
      "cell_type": "code",
      "metadata": {
        "id": "nXVQJUqLms_f",
        "colab_type": "code",
        "colab": {
          "base_uri": "https://localhost:8080/",
          "height": 121
        },
        "outputId": "7b4a7e53-7771-428d-ef2a-0a783a9cc8d1"
      },
      "source": [
        "#multiplication table of K\n",
        "k=int(input(\"enter value to show\"))\n",
        "n=int(input('enter range'))\n",
        "for i in range(1,n):\n",
        "    print(k,'*',i,'=',k*i)"
      ],
      "execution_count": 5,
      "outputs": [
        {
          "output_type": "stream",
          "text": [
            "enter value to show7\n",
            "enter range5\n",
            "7 * 1 = 7\n",
            "7 * 2 = 14\n",
            "7 * 3 = 21\n",
            "7 * 4 = 28\n"
          ],
          "name": "stdout"
        }
      ]
    },
    {
      "cell_type": "code",
      "metadata": {
        "id": "wcwPp8him5ic",
        "colab_type": "code",
        "colab": {
          "base_uri": "https://localhost:8080/",
          "height": 104
        },
        "outputId": "29b4d0ef-5aa6-421d-e18e-90c65485ac65"
      },
      "source": [
        "#pattern\n",
        "for i in range(0,5):\n",
        "    for j in range(0,i+1):\n",
        "        print(\"* \",end=\"\")\n",
        "    print(\"\\r\")"
      ],
      "execution_count": 6,
      "outputs": [
        {
          "output_type": "stream",
          "text": [
            "* \r\n",
            "* * \r\n",
            "* * * \r\n",
            "* * * * \r\n",
            "* * * * * \r\n"
          ],
          "name": "stdout"
        }
      ]
    }
  ]
}