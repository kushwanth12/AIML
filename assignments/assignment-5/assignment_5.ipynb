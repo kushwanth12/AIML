{
  "nbformat": 4,
  "nbformat_minor": 0,
  "metadata": {
    "colab": {
      "name": "assignment-5",
      "provenance": []
    },
    "kernelspec": {
      "name": "python3",
      "display_name": "Python 3"
    }
  },
  "cells": [
    {
      "cell_type": "code",
      "metadata": {
        "id": "8rTOKtv5r9cm",
        "colab_type": "code",
        "colab": {
          "base_uri": "https://localhost:8080/",
          "height": 87
        },
        "outputId": "369934d8-ce09-4353-b88e-9ea3fca13639"
      },
      "source": [
        "import random\n",
        "k=\"yes\"\n",
        "while(k==\"yes\"):\n",
        "    verb=[\"work\",\"sleep\",\"pull\",\"push\",\"beat\",\"buy\",\"cut\",\"eat\",\"run\",\"tell\"]\n",
        "    noun=[\"tiger\",\"lion\",\"dog\",\"cat\",\"snake\",\"frog\",\"monkey\",\"rat\",\"ant\",\"fish\"]\n",
        "    schar=[\"!\",\"@\",\"#\",\"$\",\"%\",\"^\",\"&\",\"*\"]\n",
        "    num=[1,2,3,4,5,6,7,8,9,10]\n",
        "    r1=random.choice(verb)\n",
        "    r2=random.choice(noun)\n",
        "    r3=random.choice(schar)\n",
        "    r4=random.choice(num)\n",
        "    print(r1,end=\"\")\n",
        "    print(r2,end=\"\")\n",
        "    print(r3,end=\"\")\n",
        "    print(r4)\n",
        "    k=input(\"enter yes or no\")"
      ],
      "execution_count": 2,
      "outputs": [
        {
          "output_type": "stream",
          "text": [
            "runcat$3\n",
            "enter yes or noyes\n",
            "sleeplion!2\n",
            "enter yes or nono\n"
          ],
          "name": "stdout"
        }
      ]
    }
  ]
}