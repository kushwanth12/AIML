{
  "nbformat": 4,
  "nbformat_minor": 0,
  "metadata": {
    "colab": {
      "name": "assignment-2",
      "provenance": []
    },
    "kernelspec": {
      "name": "python3",
      "display_name": "Python 3"
    }
  },
  "cells": [
    {
      "cell_type": "code",
      "metadata": {
        "id": "wNvFBSx317tX",
        "colab_type": "code",
        "colab": {
          "base_uri": "https://localhost:8080/",
          "height": 35
        },
        "outputId": "9d566dcf-2c56-48a6-f29f-5cb7cea9240d"
      },
      "source": [
        "#Read the input as two limits and Print the output as Palindrome count between the two limits\n",
        "\n",
        "def num_palindromes(start, end):\n",
        "    count = 0\n",
        "    for i in range(start, end + 1):\n",
        "        if str(i) == str(i)[::-1]:\n",
        "            count += 1\n",
        "    return count\n",
        "count = num_palindromes(1,100)\n",
        "print(count)\n"
      ],
      "execution_count": 1,
      "outputs": [
        {
          "output_type": "stream",
          "text": [
            "18\n"
          ],
          "name": "stdout"
        }
      ]
    },
    {
      "cell_type": "code",
      "metadata": {
        "id": "Hk7Y3EcM2FPH",
        "colab_type": "code",
        "colab": {
          "base_uri": "https://localhost:8080/",
          "height": 69
        },
        "outputId": "7b56b26e-fdbb-46cd-ed41-a9c31aa87c48"
      },
      "source": [
        "\n",
        "#Accept a number as an input and check whether the given number is palindrome or not\n",
        "\n",
        "n=int(input(\"enter number\"))\n",
        "s = 0\n",
        "while True:\n",
        "    k = str(n)\n",
        "    if k == k[::-1]:\n",
        "        print(k)\n",
        "        break\n",
        "    else:\n",
        "      m = int(k[::-1])\n",
        "      n += m\n",
        "      s += 1\n",
        "      print(k)"
      ],
      "execution_count": 2,
      "outputs": [
        {
          "output_type": "stream",
          "text": [
            "enter number127\n",
            "127\n",
            "848\n"
          ],
          "name": "stdout"
        }
      ]
    },
    {
      "cell_type": "code",
      "metadata": {
        "id": "L2uiMGJh2KsR",
        "colab_type": "code",
        "colab": {
          "base_uri": "https://localhost:8080/",
          "height": 52
        },
        "outputId": "ca045104-4866-44b4-d82e-ae1d2ca9ac9f"
      },
      "source": [
        "#Accept input as a string and display sum of digits as the output \n",
        "n=input('')\n",
        "sum= 0\n",
        "for x in n:\n",
        "    if x.isdigit() == True:\n",
        "            z = int(x)\n",
        "            sum= sum + z\n",
        "print(sum)"
      ],
      "execution_count": 7,
      "outputs": [
        {
          "output_type": "stream",
          "text": [
            "intenship123summer456\n",
            "21\n"
          ],
          "name": "stdout"
        }
      ]
    },
    {
      "cell_type": "code",
      "metadata": {
        "id": "S9B7Lyvs22CG",
        "colab_type": "code",
        "colab": {
          "base_uri": "https://localhost:8080/",
          "height": 52
        },
        "outputId": "9b0c776a-b6ec-4694-de55-54f4f3e58620"
      },
      "source": [
        "#Write a program to prompt for a score between 0.0 and 1.0. If the score is out of range, print an error. If the score is between 0.0 and 1.0, print a grade using the following table:\n",
        "\n",
        "score = float(input(\" \"))\n",
        "if score>1.0 or score<0.0 :\n",
        "    print(\"error\")\n",
        "elif score>=0.9 :\n",
        "    print ('A')\n",
        "elif score>=0.8 :\n",
        "    print( 'B')\n",
        "elif score>=0.7 :\n",
        "    print( 'C')\n",
        "elif score>=0.6 :\n",
        "    print( 'D')\n",
        "else :\n",
        "    print( 'F')"
      ],
      "execution_count": 8,
      "outputs": [
        {
          "output_type": "stream",
          "text": [
            " 0.85\n",
            "B\n"
          ],
          "name": "stdout"
        }
      ]
    },
    {
      "cell_type": "code",
      "metadata": {
        "id": "Us412XfQ2_c-",
        "colab_type": "code",
        "colab": {
          "base_uri": "https://localhost:8080/",
          "height": 121
        },
        "outputId": "fc3fdc94-131f-498b-ef27-978f05541389"
      },
      "source": [
        "#Write a Python program which iterates the integers from 1 to 50. For multiples of three print \"Fizz\" instead of the number and for the multiples of five print \"Buzz\". For numbers which are multiples of both three and five print \"FizzBuzz\".\n",
        "\n",
        "for fizzbuzz in range(6):\n",
        "    if fizzbuzz % 3 == 0 and fizzbuzz % 5 == 0:\n",
        "        print(\"fizzbuzz\")\n",
        "        continue\n",
        "    elif fizzbuzz % 3 == 0:\n",
        "        print(\"fizz\")\n",
        "        continue\n",
        "    elif fizzbuzz % 5 == 0:\n",
        "        print(\"buzz\")\n",
        "        continue\n",
        "    print(fizzbuzz)"
      ],
      "execution_count": 9,
      "outputs": [
        {
          "output_type": "stream",
          "text": [
            "fizzbuzz\n",
            "1\n",
            "2\n",
            "fizz\n",
            "4\n",
            "buzz\n"
          ],
          "name": "stdout"
        }
      ]
    },
    {
      "cell_type": "code",
      "metadata": {
        "id": "oFst4sYP3LLv",
        "colab_type": "code",
        "colab": {
          "base_uri": "https://localhost:8080/",
          "height": 87
        },
        "outputId": "06503770-b376-41dd-fa73-92350836e849"
      },
      "source": [
        "#Write a Python program to find the median of three values.\n",
        "a = int(input(\"num1\"))\n",
        "b = int(input(\"num2\"))\n",
        "c = int(input(\"num3\"))\n",
        "\n",
        "if b < a and a < c:\n",
        "    print(a)\n",
        "elif c < a and a < b:\n",
        "    print(a)\n",
        "    \n",
        "elif c < b and b < a:\n",
        "    print(b)\n",
        "elif a < b and b < c:\n",
        "    print(b)\n",
        "    \n",
        "elif b < c and c < a:\n",
        "    print(c)    \n",
        "elif a < c and c < b:\n",
        "    print(c)"
      ],
      "execution_count": 10,
      "outputs": [
        {
          "output_type": "stream",
          "text": [
            "num145\n",
            "num240\n",
            "num324\n",
            "40\n"
          ],
          "name": "stdout"
        }
      ]
    },
    {
      "cell_type": "code",
      "metadata": {
        "id": "sn2RhK6H3Vdn",
        "colab_type": "code",
        "colab": {
          "base_uri": "https://localhost:8080/",
          "height": 87
        },
        "outputId": "87e878fc-2c9d-47f6-8202-0ca81937266a"
      },
      "source": [
        "str = input(\"Enter the string :\")\n",
        "vowels = 0\n",
        "consonants = 0\n",
        "symbols = 0\n",
        "str = str.lower()\n",
        "for i in range(0, len(str)):\n",
        "    if(str[i] == 'a'or str[i] == 'e' or str[i] == 'i'\n",
        "       or str[i] == 'o' or str[i] == 'u'):\n",
        "        vowels = vowels + 1\n",
        "    elif ((str[i] >= 'a'and str[i] <= 'z')):\n",
        "            consonants = consonants + 1\n",
        "    else:\n",
        "         symbols = symbols + 1\n",
        "print(\"vowels\" , vowels)\n",
        "print(\"Consonants:\", consonants)\n",
        "print(\"Symbols :\", symbols)"
      ],
      "execution_count": 11,
      "outputs": [
        {
          "output_type": "stream",
          "text": [
            "Enter the string :kushwanth@$$\n",
            "vowels 2\n",
            "Consonants: 7\n",
            "Symbols : 3\n"
          ],
          "name": "stdout"
        }
      ]
    },
    {
      "cell_type": "code",
      "metadata": {
        "id": "PxdP0Atl3kuW",
        "colab_type": "code",
        "colab": {
          "base_uri": "https://localhost:8080/",
          "height": 35
        },
        "outputId": "270d6828-218e-4575-c530-0356d889776d"
      },
      "source": [
        "#input:orange  →   output : puboif\n",
        "value = 'orange'\n",
        "var=(chr(ord(value[0])+1))\n",
        "var1=(chr(ord(value[1])+3))\n",
        "var2=(chr(ord(value[2])+1))\n",
        "var3=(chr(ord(value[3])+1))\n",
        "var4=(chr(ord(value[4])+2))\n",
        "var5=(chr(ord(value[5])+1))\n",
        "value=var+var1+var2+var3+var4+var5\n",
        "print(value)"
      ],
      "execution_count": 12,
      "outputs": [
        {
          "output_type": "stream",
          "text": [
            "puboif\n"
          ],
          "name": "stdout"
        }
      ]
    },
    {
      "cell_type": "code",
      "metadata": {
        "id": "BKi_ADKy3v1S",
        "colab_type": "code",
        "colab": {
          "base_uri": "https://localhost:8080/",
          "height": 52
        },
        "outputId": "92ae6848-2366-441d-a4ec-d79f4539e10d"
      },
      "source": [
        "#count the no.of pairs of a in the given string(Infosys InfyTQ)\n",
        "str=input(\"enter string:  \")\n",
        "count=0\n",
        "i=0\n",
        "k=len(str)\n",
        "while i<k-1:\n",
        "    if(str[i]=='a'):\n",
        "        if(str[i+1]=='a'):\n",
        "            count+=1\n",
        "            i+=1\n",
        "    i+=1\n",
        "print(count)"
      ],
      "execution_count": 13,
      "outputs": [
        {
          "output_type": "stream",
          "text": [
            "enter string:  aabcdaabefaa\n",
            "3\n"
          ],
          "name": "stdout"
        }
      ]
    },
    {
      "cell_type": "code",
      "metadata": {
        "id": "9cVpkvSR34Hp",
        "colab_type": "code",
        "colab": {
          "base_uri": "https://localhost:8080/",
          "height": 52
        },
        "outputId": "57786654-fb9a-4016-ce66-11c6edda105f"
      },
      "source": [
        "#    Test case1:\n",
        "#    string →  \"((((()()()))))()\"\n",
        "#   output →  8\n",
        "#   Test case2:\n",
        "#   string →  \"((()))()\"\n",
        "#   Output →  4\n",
        "s=input(\"string : \")\n",
        "count=0\n",
        "i=0\n",
        "while i<(len(s)-1):\n",
        "    if(s[i]=='('):\n",
        "        count+=1\n",
        "    i+=1\n",
        "print(count)"
      ],
      "execution_count": 15,
      "outputs": [
        {
          "output_type": "stream",
          "text": [
            "string : ((((()()()))))()\n",
            "8\n"
          ],
          "name": "stdout"
        }
      ]
    }
  ]
}